{
  "nbformat": 4,
  "nbformat_minor": 0,
  "metadata": {
    "colab": {
      "provenance": [],
      "collapsed_sections": []
    },
    "kernelspec": {
      "name": "python3",
      "display_name": "Python 3"
    },
    "language_info": {
      "name": "python"
    }
  },
  "cells": [
    {
      "cell_type": "code",
      "source": [
        "import pandas as pd\n",
        "import numpy as np\n",
        "import matplotlib.pyplot as plt\n",
        "import tensorflow as tf\n",
        "from sklearn.metrics import mean_squared_error\n",
        "from sklearn.metrics import mean_absolute_error\n",
        "from sklearn.model_selection import cross_val_score\n",
        "from sklearn.model_selection import train_test_split\n",
        "%matplotlib inline"
      ],
      "metadata": {
        "id": "b2YuFp6hDrFV"
      },
      "execution_count": 2,
      "outputs": []
    },
    {
      "cell_type": "code",
      "execution_count": 14,
      "metadata": {
        "colab": {
          "base_uri": "https://localhost:8080/",
          "height": 74
        },
        "id": "HwD9DowpCwy0",
        "outputId": "51627f94-4d65-494b-ca8a-2237f844d3ce"
      },
      "outputs": [
        {
          "output_type": "display_data",
          "data": {
            "text/plain": [
              "<IPython.core.display.HTML object>"
            ],
            "text/html": [
              "\n",
              "     <input type=\"file\" id=\"files-e50702b8-5546-4df9-b5ea-87f40f40fc4b\" name=\"files[]\" multiple disabled\n",
              "        style=\"border:none\" />\n",
              "     <output id=\"result-e50702b8-5546-4df9-b5ea-87f40f40fc4b\">\n",
              "      Upload widget is only available when the cell has been executed in the\n",
              "      current browser session. Please rerun this cell to enable.\n",
              "      </output>\n",
              "      <script>// Copyright 2017 Google LLC\n",
              "//\n",
              "// Licensed under the Apache License, Version 2.0 (the \"License\");\n",
              "// you may not use this file except in compliance with the License.\n",
              "// You may obtain a copy of the License at\n",
              "//\n",
              "//      http://www.apache.org/licenses/LICENSE-2.0\n",
              "//\n",
              "// Unless required by applicable law or agreed to in writing, software\n",
              "// distributed under the License is distributed on an \"AS IS\" BASIS,\n",
              "// WITHOUT WARRANTIES OR CONDITIONS OF ANY KIND, either express or implied.\n",
              "// See the License for the specific language governing permissions and\n",
              "// limitations under the License.\n",
              "\n",
              "/**\n",
              " * @fileoverview Helpers for google.colab Python module.\n",
              " */\n",
              "(function(scope) {\n",
              "function span(text, styleAttributes = {}) {\n",
              "  const element = document.createElement('span');\n",
              "  element.textContent = text;\n",
              "  for (const key of Object.keys(styleAttributes)) {\n",
              "    element.style[key] = styleAttributes[key];\n",
              "  }\n",
              "  return element;\n",
              "}\n",
              "\n",
              "// Max number of bytes which will be uploaded at a time.\n",
              "const MAX_PAYLOAD_SIZE = 100 * 1024;\n",
              "\n",
              "function _uploadFiles(inputId, outputId) {\n",
              "  const steps = uploadFilesStep(inputId, outputId);\n",
              "  const outputElement = document.getElementById(outputId);\n",
              "  // Cache steps on the outputElement to make it available for the next call\n",
              "  // to uploadFilesContinue from Python.\n",
              "  outputElement.steps = steps;\n",
              "\n",
              "  return _uploadFilesContinue(outputId);\n",
              "}\n",
              "\n",
              "// This is roughly an async generator (not supported in the browser yet),\n",
              "// where there are multiple asynchronous steps and the Python side is going\n",
              "// to poll for completion of each step.\n",
              "// This uses a Promise to block the python side on completion of each step,\n",
              "// then passes the result of the previous step as the input to the next step.\n",
              "function _uploadFilesContinue(outputId) {\n",
              "  const outputElement = document.getElementById(outputId);\n",
              "  const steps = outputElement.steps;\n",
              "\n",
              "  const next = steps.next(outputElement.lastPromiseValue);\n",
              "  return Promise.resolve(next.value.promise).then((value) => {\n",
              "    // Cache the last promise value to make it available to the next\n",
              "    // step of the generator.\n",
              "    outputElement.lastPromiseValue = value;\n",
              "    return next.value.response;\n",
              "  });\n",
              "}\n",
              "\n",
              "/**\n",
              " * Generator function which is called between each async step of the upload\n",
              " * process.\n",
              " * @param {string} inputId Element ID of the input file picker element.\n",
              " * @param {string} outputId Element ID of the output display.\n",
              " * @return {!Iterable<!Object>} Iterable of next steps.\n",
              " */\n",
              "function* uploadFilesStep(inputId, outputId) {\n",
              "  const inputElement = document.getElementById(inputId);\n",
              "  inputElement.disabled = false;\n",
              "\n",
              "  const outputElement = document.getElementById(outputId);\n",
              "  outputElement.innerHTML = '';\n",
              "\n",
              "  const pickedPromise = new Promise((resolve) => {\n",
              "    inputElement.addEventListener('change', (e) => {\n",
              "      resolve(e.target.files);\n",
              "    });\n",
              "  });\n",
              "\n",
              "  const cancel = document.createElement('button');\n",
              "  inputElement.parentElement.appendChild(cancel);\n",
              "  cancel.textContent = 'Cancel upload';\n",
              "  const cancelPromise = new Promise((resolve) => {\n",
              "    cancel.onclick = () => {\n",
              "      resolve(null);\n",
              "    };\n",
              "  });\n",
              "\n",
              "  // Wait for the user to pick the files.\n",
              "  const files = yield {\n",
              "    promise: Promise.race([pickedPromise, cancelPromise]),\n",
              "    response: {\n",
              "      action: 'starting',\n",
              "    }\n",
              "  };\n",
              "\n",
              "  cancel.remove();\n",
              "\n",
              "  // Disable the input element since further picks are not allowed.\n",
              "  inputElement.disabled = true;\n",
              "\n",
              "  if (!files) {\n",
              "    return {\n",
              "      response: {\n",
              "        action: 'complete',\n",
              "      }\n",
              "    };\n",
              "  }\n",
              "\n",
              "  for (const file of files) {\n",
              "    const li = document.createElement('li');\n",
              "    li.append(span(file.name, {fontWeight: 'bold'}));\n",
              "    li.append(span(\n",
              "        `(${file.type || 'n/a'}) - ${file.size} bytes, ` +\n",
              "        `last modified: ${\n",
              "            file.lastModifiedDate ? file.lastModifiedDate.toLocaleDateString() :\n",
              "                                    'n/a'} - `));\n",
              "    const percent = span('0% done');\n",
              "    li.appendChild(percent);\n",
              "\n",
              "    outputElement.appendChild(li);\n",
              "\n",
              "    const fileDataPromise = new Promise((resolve) => {\n",
              "      const reader = new FileReader();\n",
              "      reader.onload = (e) => {\n",
              "        resolve(e.target.result);\n",
              "      };\n",
              "      reader.readAsArrayBuffer(file);\n",
              "    });\n",
              "    // Wait for the data to be ready.\n",
              "    let fileData = yield {\n",
              "      promise: fileDataPromise,\n",
              "      response: {\n",
              "        action: 'continue',\n",
              "      }\n",
              "    };\n",
              "\n",
              "    // Use a chunked sending to avoid message size limits. See b/62115660.\n",
              "    let position = 0;\n",
              "    do {\n",
              "      const length = Math.min(fileData.byteLength - position, MAX_PAYLOAD_SIZE);\n",
              "      const chunk = new Uint8Array(fileData, position, length);\n",
              "      position += length;\n",
              "\n",
              "      const base64 = btoa(String.fromCharCode.apply(null, chunk));\n",
              "      yield {\n",
              "        response: {\n",
              "          action: 'append',\n",
              "          file: file.name,\n",
              "          data: base64,\n",
              "        },\n",
              "      };\n",
              "\n",
              "      let percentDone = fileData.byteLength === 0 ?\n",
              "          100 :\n",
              "          Math.round((position / fileData.byteLength) * 100);\n",
              "      percent.textContent = `${percentDone}% done`;\n",
              "\n",
              "    } while (position < fileData.byteLength);\n",
              "  }\n",
              "\n",
              "  // All done.\n",
              "  yield {\n",
              "    response: {\n",
              "      action: 'complete',\n",
              "    }\n",
              "  };\n",
              "}\n",
              "\n",
              "scope.google = scope.google || {};\n",
              "scope.google.colab = scope.google.colab || {};\n",
              "scope.google.colab._files = {\n",
              "  _uploadFiles,\n",
              "  _uploadFilesContinue,\n",
              "};\n",
              "})(self);\n",
              "</script> "
            ]
          },
          "metadata": {}
        },
        {
          "output_type": "stream",
          "name": "stdout",
          "text": [
            "Saving imp.csv to imp.csv\n"
          ]
        }
      ],
      "source": [
        "from google.colab import files\n",
        "uploaded = files.upload()"
      ]
    },
    {
      "cell_type": "code",
      "source": [
        "dataset = pd.read_csv('imp.csv',sep=',')"
      ],
      "metadata": {
        "id": "QbT1FxenDqti"
      },
      "execution_count": 4,
      "outputs": []
    },
    {
      "cell_type": "code",
      "source": [
        "cr = (dataset['Количество лидов']/dataset['Посетители'])*100\n",
        "month = dataset['Интервал дат визита'].str.split('-')\n",
        "dataset['CR'] = cr\n",
        "X = dataset.drop(['Количество лидов','Интервал дат визита'], axis=1)\n",
        "Y = dataset['Количество лидов']\n",
        "x_train, x_test, y_train, y_test = train_test_split(X, Y, train_size=0.80, random_state = 0)"
      ],
      "metadata": {
        "id": "QwITk_k7VfPx"
      },
      "execution_count": 5,
      "outputs": []
    },
    {
      "cell_type": "code",
      "source": [
        "data = [['3637','3159','6852','97','13','4','6','7.1','2.009165']]\n",
        "df = pd.DataFrame(data, columns=['Визиты','Посетители','Просмотры','Облачность','Осадки','Днем','Ночью','Ветер','CR'])"
      ],
      "metadata": {
        "id": "6g3XE5CKBBK_"
      },
      "execution_count": 39,
      "outputs": []
    },
    {
      "cell_type": "markdown",
      "source": [
        "### **Разные модели**"
      ],
      "metadata": {
        "id": "BxomwGeBi4pJ"
      }
    },
    {
      "cell_type": "markdown",
      "source": [
        "**Бэггинг**"
      ],
      "metadata": {
        "id": "XwLp4Qc2gtXr"
      }
    },
    {
      "cell_type": "code",
      "source": [
        "from sklearn.ensemble import BaggingRegressor\n",
        "from sklearn.tree import DecisionTreeRegressor\n",
        "tree_model = BaggingRegressor(base_estimator=DecisionTreeRegressor(max_depth=9), n_estimators=10, random_state=0, bootstrap=True)\n",
        "tree_model.fit(x_train, y_train)\n",
        "tree_result = tree_model.predict(x_test)\n",
        "\n",
        "mse = mean_squared_error(y_test, tree_result)\n",
        "mae = mean_absolute_error(y_test, tree_result) \n",
        "\n",
        "cross_v = cross_val_score(tree_model, X, Y, cv=20)\n",
        "\n",
        "print(\"RMSE: {}\".format(np.sqrt(mse)))\n",
        "print(\"MAE: {}\".format(mae))\n",
        "print(\"Predict: {}\".format(tree_model.predict(df)[0]))\n",
        "\n",
        "print(cross_v)"
      ],
      "metadata": {
        "colab": {
          "base_uri": "https://localhost:8080/"
        },
        "id": "E-mUCanSY3lw",
        "outputId": "06499c30-3502-4d87-acd1-1b5c2be6a0e4"
      },
      "execution_count": 60,
      "outputs": [
        {
          "output_type": "stream",
          "name": "stdout",
          "text": [
            "RMSE: 7.491536136306644\n",
            "MAE: 4.13032821602266\n",
            "Predict: 63.2\n",
            "[0.82597211 0.9731229  0.93375584 0.98416448 0.78838456 0.74672024\n",
            " 0.7900819  0.93274921 0.88632607 0.87130934 0.96507525 0.86174961\n",
            " 0.98659007 0.97587122 0.9575642  0.97703435 0.95793273 0.99153743\n",
            " 0.98870555 0.98833438]\n"
          ]
        }
      ]
    },
    {
      "cell_type": "markdown",
      "source": [
        "**Сверхслучайные деревья** - шумов минимум, по показателям норм - поменял на них"
      ],
      "metadata": {
        "id": "EznHsRCfk2wJ"
      }
    },
    {
      "cell_type": "code",
      "source": [
        "from sklearn.ensemble import ExtraTreesRegressor\n",
        "reg = ExtraTreesRegressor(n_estimators=8, random_state=0)\n",
        "reg.fit(x_train, y_train)\n",
        "reg_result = reg.predict(x_test)\n",
        "mse_r = mean_squared_error(y_test, reg_result)\n",
        "mae_r = mean_absolute_error(y_test, reg_result) \n",
        "cross_v2 = cross_val_score(reg, X, Y, cv=20)\n",
        "print(\"RMSE: {}\".format(np.sqrt(mse_r)))\n",
        "print(\"MAE: {}\".format(mae_r))\n",
        "print(\"Predict: {}\".format(reg.predict(df)[0]))\n",
        "print(cross_v2)"
      ],
      "metadata": {
        "colab": {
          "base_uri": "https://localhost:8080/"
        },
        "id": "aLdRKK4AdAsa",
        "outputId": "47c4603b-0059-4d26-8a06-955c23bfda27"
      },
      "execution_count": 61,
      "outputs": [
        {
          "output_type": "stream",
          "name": "stdout",
          "text": [
            "RMSE: 3.642955213173116\n",
            "MAE: 2.821759259259259\n",
            "Predict: 66.875\n",
            "[0.91445559 0.88956984 0.91412173 0.99070427 0.87282241 0.83485635\n",
            " 0.91223379 0.98151625 0.91051517 0.94152016 0.99122461 0.89882251\n",
            " 0.99183642 0.97666213 0.98979788 0.97928726 0.96917766 0.98509976\n",
            " 0.9793164  0.96434197]\n"
          ]
        }
      ]
    },
    {
      "cell_type": "markdown",
      "source": [
        "**Бустинг**\n",
        "https://scikit-learn.org/stable/modules/generated/sklearn.ensemble.GradientBoostingRegressor.html"
      ],
      "metadata": {
        "id": "29j3A3uglN8U"
      }
    },
    {
      "cell_type": "code",
      "source": [
        "from sklearn.ensemble import GradientBoostingRegressor\n",
        "reg2 = GradientBoostingRegressor(random_state=0)\n",
        "reg2.fit(x_train, y_train)\n",
        "reg2_result=reg2.predict(x_test)\n",
        "mse_r2 = mean_squared_error(y_test, reg2_result)\n",
        "mae_r2 = mean_absolute_error(y_test, reg2_result) \n",
        "cross_v3 = cross_val_score(reg, X, Y, cv=20)\n",
        "print(\"RMSE: {}\".format(np.sqrt(mse_r2)))\n",
        "print(\"MAE: {}\".format(mae_r2))\n",
        "print(\"Predict: {}\".format(reg.predict(df)[0]))\n",
        "print(cross_v3)"
      ],
      "metadata": {
        "colab": {
          "base_uri": "https://localhost:8080/"
        },
        "id": "9w4G1OkKfjx1",
        "outputId": "4dff5c3f-fff3-497b-9455-8397f9b55eb2"
      },
      "execution_count": 62,
      "outputs": [
        {
          "output_type": "stream",
          "name": "stdout",
          "text": [
            "RMSE: 5.6751839870178715\n",
            "MAE: 3.4675484174055478\n",
            "Predict: 66.875\n",
            "[0.91445559 0.88956984 0.91412173 0.99070427 0.87282241 0.83485635\n",
            " 0.91223379 0.98151625 0.91051517 0.94152016 0.99122461 0.89882251\n",
            " 0.99183642 0.97666213 0.98979788 0.97928726 0.96917766 0.98509976\n",
            " 0.9793164  0.96434197]\n"
          ]
        }
      ]
    },
    {
      "cell_type": "markdown",
      "source": [
        "кросс валидация\n",
        "r2"
      ],
      "metadata": {
        "id": "LiYftoa9ZXxV"
      }
    }
  ]
}